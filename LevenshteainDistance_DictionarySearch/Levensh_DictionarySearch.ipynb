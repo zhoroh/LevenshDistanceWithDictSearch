{
 "cells": [
  {
   "cell_type": "code",
   "execution_count": 1,
   "id": "4ad3d79d",
   "metadata": {},
   "outputs": [],
   "source": [
    "import numpy as np"
   ]
  },
  {
   "cell_type": "code",
   "execution_count": 2,
   "id": "d2c05f08",
   "metadata": {},
   "outputs": [],
   "source": [
    "def min_ed_dist(source_str,target_str):\n",
    "    #debug = []\n",
    "    source = [elem for elem in source_str]\n",
    "    target = [elem for elem in target_str]\n",
    "    distanceMatrix = np.zeros((len(source),len(target)))\n",
    "    distanceMatrix[0] = [x for x in range(len(target))]\n",
    "    distanceMatrix[:,0] = [ y for y in range(len(source))]\n",
    "    for i in range(1,len(source)):\n",
    "        for j in range(1,len(target)):\n",
    "            distanceMatrix[i][j] = somefunc(i,j,source_str,target_str,distanceMatrix)\n",
    "    return distanceMatrix[len(source_str) -1 ][len(target_str) -1]\n",
    "def somefunc(x,y,source_str,target_str,distanceMatrix):\n",
    "    list_ = []\n",
    "    list_x = [x-1,x,x-1]\n",
    "    list_y = [y,y-1,y-1]\n",
    "   # print(list_x,list_y)\n",
    "    for count in range(len(list_x)):\n",
    "        res = distanceMatrix[list_x[count]][list_y[count]]\n",
    "        \n",
    "        #tuppu = (list_x[count],list_y[count])\n",
    "        #val = max(tuppu)\n",
    "        if count + 1 == len(list_x):\n",
    "            #continue\n",
    "            if source_str[x] != target_str[y]:\n",
    "                res += 2\n",
    "            else:\n",
    "                res += 0\n",
    "        else:\n",
    "            res += 1\n",
    "        list_.append(res)\n",
    "    value = min(list_)\n",
    "    return value\n",
    "\n"
   ]
  },
  {
   "cell_type": "code",
   "execution_count": 69,
   "id": "159793a0",
   "metadata": {},
   "outputs": [],
   "source": [
    "from collections import Counter"
   ]
  },
  {
   "cell_type": "code",
   "execution_count": 70,
   "id": "60c42e12",
   "metadata": {},
   "outputs": [],
   "source": [
    "def calcDictDistance(searchWord,numOfWords):\n",
    "    file = open(\"dicti.txt\",\"r\")\n",
    "    lines = file.readlines()\n",
    "    file.close()\n",
    "    #list_ = []\n",
    "    dict_ = {}\n",
    "    for line in lines:\n",
    "        line = line.strip() # removes spaces  both at the end and beginning of a string\n",
    "        line = \"#\" + line\n",
    "        val = min_ed_dist(searchWord,line)\n",
    "        dict_[line.replace(\"#\",\"\")] = val\n",
    "        \n",
    "    results = anoda_func(dict_,numOfWords)\n",
    "    print(results)\n",
    "    #C = OrderedDict(dict_)\n",
    "    #C = Counter(C)\n",
    "    #C = OrderedDict(C)\n",
    "    #return Counter(dict_)\n",
    "def anoda_func(x,y):\n",
    "    X = Counter(x)\n",
    "    X = X.most_common(len(x))\n",
    "    list_ = []\n",
    "    for i in range(1,y+1):\n",
    "        list_.append(X[-i][0])\n",
    "        \n",
    "    return list_\n",
    "\n",
    "\n"
   ]
  },
  {
   "cell_type": "code",
   "execution_count": null,
   "id": "79219ac1",
   "metadata": {},
   "outputs": [],
   "source": [
    "searchWord = str(input(\"SearchWord:\"))\n",
    "searchWord = \"#\" + searchWord\n",
    "numOfWords = int(input(\"enter the number of filtered words you want:\"))"
   ]
  },
  {
   "cell_type": "code",
   "execution_count": null,
   "id": "0e78cd62",
   "metadata": {},
   "outputs": [],
   "source": [
    "calcDictDistance(searchWord,numOfWords)"
   ]
  },
  {
   "cell_type": "code",
   "execution_count": null,
   "id": "157783a6",
   "metadata": {},
   "outputs": [],
   "source": []
  }
 ],
 "metadata": {
  "kernelspec": {
   "display_name": "Python 3.7.3 64-bit ('base': conda)",
   "language": "python",
   "name": "python37364bitbaseconda696fe52c12ae4c60a859b358fae1d77b"
  },
  "language_info": {
   "codemirror_mode": {
    "name": "ipython",
    "version": 3
   },
   "file_extension": ".py",
   "mimetype": "text/x-python",
   "name": "python",
   "nbconvert_exporter": "python",
   "pygments_lexer": "ipython3",
   "version": "3.7.3"
  }
 },
 "nbformat": 4,
 "nbformat_minor": 5
}
